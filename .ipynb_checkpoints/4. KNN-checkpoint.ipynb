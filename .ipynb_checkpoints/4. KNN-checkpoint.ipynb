{
 "cells": [
  {
   "cell_type": "markdown",
   "metadata": {},
   "source": [
    "Leia as 5 primeiras linhas do dataset iris e calcule a distância de Minkowski com p = 2 entre cada instância, mostrando o resultado no formato de matriz.\n",
    "\n",
    "*Dica: scipy.spatial*"
   ]
  },
  {
   "cell_type": "code",
   "execution_count": 16,
   "metadata": {
    "collapsed": true
   },
   "outputs": [],
   "source": [
    "import pandas as pd\n",
    "import numpy as np\n",
    "\n",
    "from scipy.spatial import minkowski_distance"
   ]
  },
  {
   "cell_type": "code",
   "execution_count": 30,
   "metadata": {},
   "outputs": [
    {
     "data": {
      "text/plain": [
       "array([[0.        , 0.53851648, 0.50990195, 0.64807407, 0.14142136],\n",
       "       [0.53851648, 0.        , 0.3       , 0.33166248, 0.60827625],\n",
       "       [0.50990195, 0.3       , 0.        , 0.24494897, 0.50990195],\n",
       "       [0.64807407, 0.33166248, 0.24494897, 0.        , 0.64807407],\n",
       "       [0.14142136, 0.60827625, 0.50990195, 0.64807407, 0.        ]])"
      ]
     },
     "execution_count": 30,
     "metadata": {},
     "output_type": "execute_result"
    }
   ],
   "source": [
    "iris = pd.read_csv('datasets/iris.csv')\n",
    "\n",
    "iris_5 = iris.iloc[:5, 1:5].values\n",
    "\n",
    "distancia = np.zeros(25).reshape(-1, 5)\n",
    "\n",
    "for lin in range(5):\n",
    "    for col in range(5):\n",
    "        distancia[lin, col] = minkowski_distance(iris_5[lin], iris_5[col], p = 2)\n",
    "\n",
    "distancia"
   ]
  },
  {
   "cell_type": "markdown",
   "metadata": {},
   "source": [
    "Da mesma forma que no item anterior, calcule dessa vez a distância Euclidiana."
   ]
  },
  {
   "cell_type": "code",
   "execution_count": 31,
   "metadata": {},
   "outputs": [
    {
     "data": {
      "text/plain": [
       "array([[0.        , 0.53851648, 0.50990195, 0.64807407, 0.14142136],\n",
       "       [0.53851648, 0.        , 0.3       , 0.33166248, 0.60827625],\n",
       "       [0.50990195, 0.3       , 0.        , 0.24494897, 0.50990195],\n",
       "       [0.64807407, 0.33166248, 0.24494897, 0.        , 0.64807407],\n",
       "       [0.14142136, 0.60827625, 0.50990195, 0.64807407, 0.        ]])"
      ]
     },
     "execution_count": 31,
     "metadata": {},
     "output_type": "execute_result"
    }
   ],
   "source": [
    "from scipy.spatial.distance import euclidean\n",
    "\n",
    "distancia = np.zeros(25).reshape(-1, 5)\n",
    "\n",
    "for lin in range(5):\n",
    "    for col in range(5):\n",
    "        distancia[lin, col] = euclidean(iris_5[lin], iris_5[col])\n",
    "\n",
    "distancia"
   ]
  },
  {
   "cell_type": "markdown",
   "metadata": {},
   "source": [
    "Multiplique todos os valores da primeira coluna por 1000 e, mais uma vez, calcule a matriz de distância Euclidiana."
   ]
  },
  {
   "cell_type": "code",
   "execution_count": 32,
   "metadata": {},
   "outputs": [
    {
     "data": {
      "text/plain": [
       "array([[5.1e+03, 3.5e+00, 1.4e+00, 2.0e-01],\n",
       "       [4.9e+03, 3.0e+00, 1.4e+00, 2.0e-01],\n",
       "       [4.7e+03, 3.2e+00, 1.3e+00, 2.0e-01],\n",
       "       [4.6e+03, 3.1e+00, 1.5e+00, 2.0e-01],\n",
       "       [5.0e+03, 3.6e+00, 1.4e+00, 2.0e-01]])"
      ]
     },
     "execution_count": 32,
     "metadata": {},
     "output_type": "execute_result"
    }
   ],
   "source": [
    "iris_5[:, 0] = iris_5[:, 0] * 1000\n",
    "iris_5"
   ]
  },
  {
   "cell_type": "code",
   "execution_count": 34,
   "metadata": {},
   "outputs": [
    {
     "data": {
      "text/plain": [
       "array([[  0., 200., 400., 500., 100.],\n",
       "       [200.,   0., 200., 300., 100.],\n",
       "       [400., 200.,   0., 100., 300.],\n",
       "       [500., 300., 100.,   0., 400.],\n",
       "       [100., 100., 300., 400.,   0.]])"
      ]
     },
     "execution_count": 34,
     "metadata": {},
     "output_type": "execute_result"
    }
   ],
   "source": [
    "from scipy.spatial.distance import euclidean\n",
    "\n",
    "distancia = np.zeros(25).reshape(-1, 5)\n",
    "\n",
    "for lin in range(5):\n",
    "    for col in range(5):\n",
    "        distancia[lin, col] = round(euclidean(iris_5[lin], iris_5[col]), 2)\n",
    "\n",
    "distancia"
   ]
  },
  {
   "cell_type": "markdown",
   "metadata": {},
   "source": [
    "O que pode ser feito para evitar problemas do tipo?"
   ]
  },
  {
   "cell_type": "code",
   "execution_count": null,
   "metadata": {
    "collapsed": true
   },
   "outputs": [],
   "source": []
  },
  {
   "cell_type": "markdown",
   "metadata": {},
   "source": [
    "Utilizando o sklearn, utilize KNN com o método de validação Leave One Out, com a variável resposta sendo a coluna de espécies, e calcule a acurácia e do Gini para k = 3, 5 e 10. Pode ser necessário remover uma ou mais colunas do dataset."
   ]
  },
  {
   "cell_type": "code",
   "execution_count": null,
   "metadata": {
    "collapsed": true
   },
   "outputs": [],
   "source": []
  },
  {
   "cell_type": "markdown",
   "metadata": {},
   "source": [
    "Repita o item anterior, mudando o dataset para *ads* e usando a coluna *Purchased* como variável resposta. Pode ser necessário remover uma ou mais colunas do dataset."
   ]
  },
  {
   "cell_type": "code",
   "execution_count": null,
   "metadata": {
    "collapsed": true
   },
   "outputs": [],
   "source": []
  }
 ],
 "metadata": {
  "kernelspec": {
   "display_name": "Python 3",
   "language": "python",
   "name": "python3"
  },
  "language_info": {
   "codemirror_mode": {
    "name": "ipython",
    "version": 3
   },
   "file_extension": ".py",
   "mimetype": "text/x-python",
   "name": "python",
   "nbconvert_exporter": "python",
   "pygments_lexer": "ipython3",
   "version": "3.6.1"
  }
 },
 "nbformat": 4,
 "nbformat_minor": 2
}
