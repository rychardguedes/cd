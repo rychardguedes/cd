{
 "cells": [
  {
   "cell_type": "markdown",
   "metadata": {
    "collapsed": true
   },
   "source": [
    "# Métodos e Métricas de Avaliação"
   ]
  },
  {
   "cell_type": "markdown",
   "metadata": {
    "collapsed": true
   },
   "source": [
    "**Leia o dataset iris e armazene em uma variável chamada ds. Os próximos exercícios serão utilizando esses dataset.**"
   ]
  },
  {
   "cell_type": "code",
   "execution_count": null,
   "metadata": {
    "collapsed": true
   },
   "outputs": [],
   "source": [
    " "
   ]
  },
  {
   "cell_type": "markdown",
   "metadata": {
    "collapsed": true
   },
   "source": [
    "**Considerando que o dataset seja avaliado utilizando K-Fold Cross Validation com K = 2, quantos dados existirão em cada fold? Existe algum nome específico ao fazer uso de K = 2?**"
   ]
  },
  {
   "cell_type": "code",
   "execution_count": null,
   "metadata": {
    "collapsed": true
   },
   "outputs": [],
   "source": [
    " "
   ]
  },
  {
   "cell_type": "markdown",
   "metadata": {
    "collapsed": true
   },
   "source": [
    "**Considerando que o dataset seja avaliado utilizando K-Fold Cross Validation com K = 150, quantos dados existirão em cada fold? Existe algum nome específico ao fazer uso de K = 150?**"
   ]
  },
  {
   "cell_type": "code",
   "execution_count": null,
   "metadata": {
    "collapsed": true
   },
   "outputs": [],
   "source": [
    " "
   ]
  },
  {
   "cell_type": "markdown",
   "metadata": {
    "collapsed": true
   },
   "source": [
    "**Em sua visão, considerando que todos os dados disponíveis para uso são o que estão em ds, qual dos K (2 ou 150) deve ser utilizado? Por que?**"
   ]
  },
  {
   "cell_type": "code",
   "execution_count": null,
   "metadata": {
    "collapsed": true
   },
   "outputs": [],
   "source": [
    " "
   ]
  },
  {
   "cell_type": "markdown",
   "metadata": {
    "collapsed": true
   },
   "source": [
    "**No conjunto de dados apresentado, existiria algum problema em determinar o folds de forma sequencial? Por que?**"
   ]
  },
  {
   "cell_type": "code",
   "execution_count": null,
   "metadata": {
    "collapsed": true
   },
   "outputs": [],
   "source": [
    " "
   ]
  },
  {
   "cell_type": "markdown",
   "metadata": {
    "collapsed": true
   },
   "source": [
    "**Qual a vantagem de separar os dados de forma estratiticada?**"
   ]
  },
  {
   "cell_type": "code",
   "execution_count": null,
   "metadata": {
    "collapsed": true
   },
   "outputs": [],
   "source": [
    " "
   ]
  },
  {
   "cell_type": "markdown",
   "metadata": {
    "collapsed": true
   },
   "source": [
    "**Utilizando a biblioteca sklearn, separe os dados de teste e treino, com 75% para treino, de forma sequencial. Observe o que acontece com as classes. Essa é a melhor forma de separar? Caso contrário, o que pode ser feito?**"
   ]
  },
  {
   "cell_type": "code",
   "execution_count": null,
   "metadata": {
    "collapsed": true
   },
   "outputs": [],
   "source": [
    " "
   ]
  },
  {
   "cell_type": "markdown",
   "metadata": {
    "collapsed": true
   },
   "source": [
    "**Separe o conjunto de dados em treino e teste, utilizando K-Fold Cross Validation, com K = 10. Calcule a média e mediana da variável Sepal.Length de cada conjunto (treino e teste) em cada iteração.**"
   ]
  },
  {
   "cell_type": "code",
   "execution_count": null,
   "metadata": {
    "collapsed": true
   },
   "outputs": [],
   "source": [
    " "
   ]
  },
  {
   "cell_type": "markdown",
   "metadata": {
    "collapsed": true
   },
   "source": [
    "**Da mesma forma que a questão anterior, separe o conjunto de dados em treino e teste, utilizando K-Fold Cross Validation, com K = 10. Padronize os dados da variável Sepal.Length para que fiquem entre 0 e 1. Dica: é importante tomar cuidado com data leak.**"
   ]
  },
  {
   "cell_type": "code",
   "execution_count": null,
   "metadata": {
    "collapsed": true
   },
   "outputs": [],
   "source": [
    " "
   ]
  },
  {
   "cell_type": "markdown",
   "metadata": {
    "collapsed": true
   },
   "source": [
    "**Leia o arquivo *saidas.csv*. Calcule a acurácia, precisão e revocação de y1_pred e y1_real.**"
   ]
  },
  {
   "cell_type": "code",
   "execution_count": null,
   "metadata": {
    "collapsed": true
   },
   "outputs": [],
   "source": [
    " "
   ]
  },
  {
   "cell_type": "markdown",
   "metadata": {
    "collapsed": true
   },
   "source": [
    "**Leia o arquivo saidas.csv. Calcule a acurácia, precisão e revocação de y2_pred1 e y2_real. Tenha atenção especial para as classes desse problema. É possível verificar algum problema? O que pode ser feito?**"
   ]
  },
  {
   "cell_type": "code",
   "execution_count": null,
   "metadata": {
    "collapsed": true
   },
   "outputs": [],
   "source": [
    " "
   ]
  },
  {
   "cell_type": "markdown",
   "metadata": {},
   "source": [
    "**Leia o arquivo saidas.csv. Observe as saídas y2_real, y2_pred1 e y2_pred2. Qual a melhor métrica para comparar os modelos que geraram essa saída?**"
   ]
  },
  {
   "cell_type": "code",
   "execution_count": null,
   "metadata": {
    "collapsed": true
   },
   "outputs": [],
   "source": []
  }
 ],
 "metadata": {
  "kernelspec": {
   "display_name": "Python 3",
   "language": "python",
   "name": "python3"
  },
  "language_info": {
   "codemirror_mode": {
    "name": "ipython",
    "version": 3
   },
   "file_extension": ".py",
   "mimetype": "text/x-python",
   "name": "python",
   "nbconvert_exporter": "python",
   "pygments_lexer": "ipython3",
   "version": "3.6.1"
  }
 },
 "nbformat": 4,
 "nbformat_minor": 2
}
